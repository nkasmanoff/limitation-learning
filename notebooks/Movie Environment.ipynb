{
 "cells": [
  {
   "cell_type": "markdown",
   "metadata": {},
   "source": [
    "Maybe easier to follow https://pytorch.org/tutorials/beginner/chatbot_tutorial.html?highlight=chatbot%20tutorial"
   ]
  },
  {
   "cell_type": "code",
   "execution_count": 1,
   "metadata": {},
   "outputs": [
    {
     "name": "stderr",
     "output_type": "stream",
     "text": [
      "/home/nsk367/anaconda3/envs/irl/lib/python3.8/site-packages/torch/cuda/__init__.py:52: UserWarning: CUDA initialization: Found no NVIDIA driver on your system. Please check that you have an NVIDIA GPU and installed a driver from http://www.nvidia.com/Download/index.aspx (Triggered internally at  /pytorch/c10/cuda/CUDAFunctions.cpp:100.)\n",
      "  return torch._C._cuda_getDeviceCount() > 0\n"
     ]
    }
   ],
   "source": [
    "from __future__ import absolute_import\n",
    "from __future__ import division\n",
    "from __future__ import print_function\n",
    "from __future__ import unicode_literals\n",
    "\n",
    "import torch\n",
    "from torch.jit import script, trace\n",
    "import torch.nn as nn\n",
    "from torch import optim\n",
    "import torch.nn.functional as F\n",
    "import csv\n",
    "import random\n",
    "import re\n",
    "import os\n",
    "import unicodedata\n",
    "import codecs\n",
    "import numpy as np\n",
    "from io import open\n",
    "import itertools\n",
    "import math\n",
    "import matplotlib.pyplot as plt\n",
    "%matplotlib inline\n",
    "\n",
    "\n",
    "USE_CUDA = torch.cuda.is_available()\n",
    "device = torch.device(\"cuda\" if USE_CUDA else \"cpu\")"
   ]
  },
  {
   "cell_type": "code",
   "execution_count": 2,
   "metadata": {},
   "outputs": [
    {
     "name": "stdout",
     "output_type": "stream",
     "text": [
      "cpu\n"
     ]
    }
   ],
   "source": [
    "print(device)"
   ]
  },
  {
   "cell_type": "code",
   "execution_count": 3,
   "metadata": {},
   "outputs": [],
   "source": [
    "corpus_name = \"cornell movie-dialogs corpus\"\n",
    "corpus = os.path.join(\"../dat/\", corpus_name)\n",
    "\n",
    "def printLines(file, n=10):\n",
    "    with open(file, 'rb') as datafile:\n",
    "        lines = datafile.readlines()\n",
    "    for line in lines[:n]:\n",
    "        print(line)\n",
    "\n",
    "#printLines(os.path.join(corpus, \"movie_lines.txt\"))\n"
   ]
  },
  {
   "cell_type": "code",
   "execution_count": 4,
   "metadata": {},
   "outputs": [],
   "source": [
    "# Splits each line of the file into a dictionary of fields\n",
    "def loadLines(fileName, fields):\n",
    "    lines = {}\n",
    "    with open(fileName, 'r', encoding='iso-8859-1') as f:\n",
    "        for line in f:\n",
    "            values = line.split(\" +++$+++ \")\n",
    "            # Extract fields\n",
    "            lineObj = {}\n",
    "            for i, field in enumerate(fields):\n",
    "                lineObj[field] = values[i]\n",
    "            lines[lineObj['lineID']] = lineObj\n",
    "    return lines\n",
    "\n",
    "\n",
    "# Groups fields of lines from `loadLines` into conversations based on *movie_conversations.txt*\n",
    "def loadConversations(fileName, lines, fields):\n",
    "    conversations = []\n",
    "    with open(fileName, 'r', encoding='iso-8859-1') as f:\n",
    "        for line in f:\n",
    "            values = line.split(\" +++$+++ \")\n",
    "            # Extract fields\n",
    "            convObj = {}\n",
    "            for i, field in enumerate(fields):\n",
    "                convObj[field] = values[i]\n",
    "            # Convert string to list (convObj[\"utteranceIDs\"] == \"['L598485', 'L598486', ...]\")\n",
    "            utterance_id_pattern = re.compile('L[0-9]+')\n",
    "            lineIds = utterance_id_pattern.findall(convObj[\"utteranceIDs\"])\n",
    "            # Reassemble lines\n",
    "            convObj[\"lines\"] = []\n",
    "            for lineId in lineIds:\n",
    "                convObj[\"lines\"].append(lines[lineId])\n",
    "            conversations.append(convObj)\n",
    "    return conversations\n",
    "\n",
    "\n",
    "# Extracts pairs of sentences from conversations\n",
    "def extractSentencePairs(conversations):\n",
    "    qa_pairs = []\n",
    "    for conversation in conversations:\n",
    "        # Iterate over all the lines of the conversation\n",
    "        for i in range(len(conversation[\"lines\"]) - 1):  # We ignore the last line (no answer for it)\n",
    "            inputLine = conversation[\"lines\"][i][\"text\"].strip()\n",
    "            targetLine = conversation[\"lines\"][i+1][\"text\"].strip()\n",
    "            # Filter wrong samples (if one of the lists is empty)\n",
    "            if inputLine and targetLine:\n",
    "                qa_pairs.append([inputLine, targetLine])\n",
    "    return qa_pairs\n",
    "\n",
    "\n",
    "# Extracts cleaned dialogue sentences from conversations\n",
    "def extractConversation(conversations):\n",
    "    clean_conversation = []\n",
    "    for conversation in conversations:\n",
    "        convo = []\n",
    "        # Iterate over all the lines of the conversation\n",
    "        for i in range(len(conversation[\"lines\"])):  # We ignore the last line (no answer for it)\n",
    "            Line = conversation[\"lines\"][i][\"text\"].strip()\n",
    "            convo.append(Line)\n",
    "        if len(convo) > 2: #there has to be a reply? \n",
    "            clean_conversation.append(convo)\n",
    "\n",
    "    return clean_conversation"
   ]
  },
  {
   "cell_type": "code",
   "execution_count": 5,
   "metadata": {},
   "outputs": [
    {
     "name": "stdout",
     "output_type": "stream",
     "text": [
      "\n",
      "Processing corpus...\n",
      "\n",
      "Loading conversations...\n",
      "\n",
      "Writing newly formatted file...\n"
     ]
    }
   ],
   "source": [
    "# Define path to new file\n",
    "\n",
    "datafile = os.path.join(corpus, \"formatted_movie_lines.txt\")\n",
    "\n",
    "delimiter = '\\t'\n",
    "# Unescape the delimiter\n",
    "delimiter = str(codecs.decode(delimiter, \"unicode_escape\"))\n",
    "\n",
    "# Initialize lines dict, conversations list, and field ids\n",
    "lines = {}\n",
    "conversations = []\n",
    "MOVIE_LINES_FIELDS = [\"lineID\", \"characterID\", \"movieID\", \"character\", \"text\"]\n",
    "MOVIE_CONVERSATIONS_FIELDS = [\"character1ID\", \"character2ID\", \"movieID\", \"utteranceIDs\"]\n",
    "\n",
    "# Load lines and process conversations\n",
    "print(\"\\nProcessing corpus...\")\n",
    "lines = loadLines(os.path.join(corpus, \"movie_lines.txt\"), MOVIE_LINES_FIELDS)\n",
    "print(\"\\nLoading conversations...\")\n",
    "conversations = loadConversations(os.path.join(corpus, \"movie_conversations.txt\"),\n",
    "                                  lines, MOVIE_CONVERSATIONS_FIELDS)\n",
    "\n",
    "convos = extractConversation(conversations)\n",
    "# Write new csv file\n",
    "print(\"\\nWriting newly formatted file...\")\n",
    "with open(datafile, 'w', encoding='utf-8') as outputfile:\n",
    "    writer = csv.writer(outputfile, delimiter=delimiter, lineterminator='\\n')\n",
    "    for pair in extractSentencePairs(conversations):\n",
    "        writer.writerow(pair)\n",
    "\n",
    "\n",
    "    "
   ]
  },
  {
   "cell_type": "code",
   "execution_count": 65,
   "metadata": {},
   "outputs": [],
   "source": [
    "# Little bit of eda.. \n",
    "convo_lengths = []\n",
    "utterance_lengths = []\n",
    "for convo in convos:\n",
    "    conversation_length = len(convo)\n",
    "    if conversation_length > 2:\n",
    " #       print(convo)\n",
    "        convo_lengths.append(conversation_length)\n",
    "        for sentence in convo:\n",
    "            utterance_lengths.append(len(sentence.split(' ')))"
   ]
  },
  {
   "cell_type": "code",
   "execution_count": 66,
   "metadata": {},
   "outputs": [
    {
     "data": {
      "text/plain": [
       "Text(0, 0.5, 'Frequency')"
      ]
     },
     "execution_count": 66,
     "metadata": {},
     "output_type": "execute_result"
    },
    {
     "data": {
      "image/png": "[encoded data removed]",
      "text/plain": [
       "<Figure size 432x288 with 1 Axes>"
      ]
     },
     "metadata": {
      "needs_background": "light"
     },
     "output_type": "display_data"
    }
   ],
   "source": [
    "plt.hist(convo_lengths,bins=50)\n",
    "plt.yscale('log')\n",
    "plt.xlabel('Conversation Length',fontsize = 15)\n",
    "plt.ylabel(\"Frequency\",fontsize = 15)"
   ]
  },
  {
   "cell_type": "code",
   "execution_count": 69,
   "metadata": {},
   "outputs": [
    {
     "data": {
      "text/plain": [
       "['Well I assure you, Sir, I have no desire to create difficulties. 45',\n",
       " \"And I assure you, you do not In fact I'd be obliged for your best advice. What have your scouts seen?\",\n",
       " 'So far only their scouts. But we have had reports of a small Impi farther north, over there.']"
      ]
     },
     "execution_count": 69,
     "metadata": {},
     "output_type": "execute_result"
    }
   ],
   "source": [
    "convo"
   ]
  },
  {
   "cell_type": "code",
   "execution_count": 68,
   "metadata": {},
   "outputs": [
    {
     "data": {
      "text/plain": [
       "Text(0, 0.5, 'Frequency')"
      ]
     },
     "execution_count": 68,
     "metadata": {},
     "output_type": "execute_result"
    },
    {
     "data": {
      "image/png": "[encoded data removed]",
      "text/plain": [
       "<Figure size 432x288 with 1 Axes>"
      ]
     },
     "metadata": {
      "needs_background": "light"
     },
     "output_type": "display_data"
    }
   ],
   "source": [
    "plt.hist(utterance_lengths,bins=50)\n",
    "plt.yscale('log')\n",
    "plt.xlabel('Utterance Length',fontsize = 15)\n",
    "plt.ylabel(\"Frequency\",fontsize = 15)"
   ]
  },
  {
   "cell_type": "code",
   "execution_count": 73,
   "metadata": {},
   "outputs": [],
   "source": [
    "class DialogEnvironment(object):\n",
    "    \"\"\"\n",
    "    \n",
    "    Gym environment for dialog.\n",
    "    \n",
    "    \"\"\"\n",
    "    def __init__(self, mode='train'):\n",
    "        \n",
    "\n",
    "        self.conversations = extractConversation(conversations)\n",
    "        \n",
    "    \n",
    "        if mode == 'train':\n",
    "            self.conversations = self.conversations[:-10]\n",
    "        elif mode == 'test':\n",
    "            self.conversations = self.conversations[-10]\n",
    "            \n",
    "        \n",
    "        self.conversations_visited = []\n",
    "        \n",
    "    def clear(self):\n",
    "        self.conversations_visited = [] #\n",
    "    def current_state(self):\n",
    "        return i,j # i for current conversation index, j for current word (these should be odd? )\n",
    "    \n",
    "    def reset(self):\n",
    "        # pick a random i in length of convos. If in convos visited, skip\n",
    "        \n",
    "        self.i = random.randint(a=0,b=len(self.conversations))\n",
    "        \n",
    "        \n",
    "        self.conversations_visited.append(self.i)\n",
    "        self.conversation = self.conversations[self.i]\n",
    "        self.j = 0\n",
    "        state = self.conversation[self.j]\n",
    "        return state\n",
    "    def step(self,action):\n",
    "        done = False\n",
    "        self.j +=2 \n",
    "        new_state = self.conversation[self.j]\n",
    "        \n",
    "        if new_state in self.conversation[-2:]: # if this last obs was either the last or second last thing, end here. \n",
    "            done = True\n",
    "        \n",
    "        return new_state, done\n"
   ]
  },
  {
   "cell_type": "code",
   "execution_count": 74,
   "metadata": {},
   "outputs": [
    {
     "data": {
      "text/plain": [
       "'Those sounds could be imitated.'"
      ]
     },
     "execution_count": 74,
     "metadata": {},
     "output_type": "execute_result"
    }
   ],
   "source": [
    "env.conversation[env.j - 1]"
   ]
  },
  {
   "cell_type": "code",
   "execution_count": 75,
   "metadata": {},
   "outputs": [],
   "source": [
    "env = DialogEnvironment()"
   ]
  },
  {
   "cell_type": "code",
   "execution_count": 76,
   "metadata": {},
   "outputs": [
    {
     "name": "stdout",
     "output_type": "stream",
     "text": [
      "~~~~~~~~~~~~~~~~~ New Episode ~~~~~~~~~~~~~~\n",
      "first state :  Your West Virginia specimen gave us quite a bit of trouble, but I finally managed to narrow his species through chaetaxy - studying the skin.\n",
      "agent action :  Just ignore him. He's not a Ph.D.\n",
      "next state :  Just ignore him. He's not a Ph.D.\n",
      "~~~~~~~~~~~~~~~~~ New Episode ~~~~~~~~~~~~~~\n",
      "first state :  Nice to meet you, Wally.\n",
      "agent action :  Tell me how all this works.\n",
      "next state :  Tell me how all this works.\n",
      "~~~~~~~~~~~~~~~~~ New Episode ~~~~~~~~~~~~~~\n",
      "first state :  If there was one nearby I'd probably ask him.\n",
      "agent action :  Whatever the hell we are, we should quit and go get ourselves some real employment.\n",
      "next state :  Handymen, Earl.  We're handymen.\n",
      "~~~~~~~~~~~~~~~~~ New Episode ~~~~~~~~~~~~~~\n",
      "first state :  Maybe you can talk sense into your boyfriend.\n",
      "agent action :  \n",
      "next state :  \n",
      "~~~~~~~~~~~~~~~~~ New Episode ~~~~~~~~~~~~~~\n",
      "first state :  I'm not going to be the scapegoat for this.  Haldeman and Ehrlichman are in just as deep as me.\n",
      "agent action :  Good.  You know how I feel about loyalty.  I'm not going to let any of my people go to jail.  That I promise you.  The important thing is to keep this away from Haldeman and Ehrlichman. I'm trusting you to do that, John.  I have complete confidence in you.\n",
      "next state :  I understand that, sir.\n"
     ]
    }
   ],
   "source": [
    "i = 0\n",
    "while i < 5:\n",
    "    state  = env.reset()\n",
    "    print(\"~~~~~~~~~~~~~~~~~ New Episode ~~~~~~~~~~~~~~\")\n",
    "    print('first state : ', state)\n",
    "    while True:\n",
    "     #   action = \"Fuck that, I'm not even supposed to be here \"\n",
    "        action = env.conversation[env.j - 1] #it's already a part of the env,\n",
    "        print(\"agent action : \", action)\n",
    "        new_state, done = env.step(action)\n",
    "#        print(\"agent action : \", expert_action, env.j)\n",
    "        print(\"next state : \", new_state)\n",
    "        if done:\n",
    "            break\n",
    "\n",
    "    i += 1"
   ]
  },
  {
   "cell_type": "code",
   "execution_count": null,
   "metadata": {},
   "outputs": [],
   "source": []
  },
  {
   "cell_type": "markdown",
   "metadata": {},
   "source": [
    "# TODO:\n",
    "\n",
    "Get the word embeddings for these sentences. Should there be padding? If it's fixed sequence, may be easier to train on.\n",
    "\n",
    "After that's all figured out, conduct IRL. "
   ]
  },
  {
   "cell_type": "markdown",
   "metadata": {},
   "source": [
    "sequence length = 20: \n",
    "\n",
    "=> -- some fine tuned word language model, getting the best representation possible for this corpus\n",
    "\n",
    "Why are you laughing? => [1x200, 1x200, 1x200 1x200 , 1x200,   .... MAX_LENGTH] , some form of token padding \n",
    "\n",
    "rather than vectorized form, \n",
    "\n",
    "the network always aceepts the same input shape, which here is like [ Maxlengnth x 1 x 200]\n",
    "\n",
    "from this, it emits an action, which is then [action_maxlenth x 1 x 200]\n",
    "\n",
    "\n",
    "using the action, the environment then emits the new state, of dimension [ Maxlengnth x 1 x 200]\n",
    "\n",
    "\n",
    "So how does RL come into play here? \n",
    "\n",
    "\n",
    "Even though the environment above is fixed,we know how the \"expert\" behaves when running through it. \n",
    "\n",
    "\n",
    "\n",
    "\n",
    "GAIL: \n",
    "\n"
   ]
  }
 ],
 "metadata": {
  "kernelspec": {
   "display_name": "Python 3",
   "language": "python",
   "name": "python3"
  },
  "language_info": {
   "codemirror_mode": {
    "name": "ipython",
    "version": 3
   },
   "file_extension": ".py",
   "mimetype": "text/x-python",
   "name": "python",
   "nbconvert_exporter": "python",
   "pygments_lexer": "ipython3",
   "version": "3.8.5"
  }
 },
 "nbformat": 4,
 "nbformat_minor": 4
}
