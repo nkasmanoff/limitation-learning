{
 "cells": [
  {
   "cell_type": "markdown",
   "metadata": {},
   "source": [
    "Teach a Seq2Seq Model to learn how to talk with General Adversarial Imitation Learning. Using a model + discriminator, teach the discriminator how to tell the difference between fake and real responses, and train the model using the policy gradient to fool the discriminator. Through this game, we can replicate conversations and see how the reward function produced by the discriminator evolves!"
   ]
  },
  {
   "cell_type": "code",
   "execution_count": 95,
   "metadata": {},
   "outputs": [],
   "source": [
    "\n",
    "import torch\n",
    "import sys\n",
    "sys.path.append('../src')\n",
    "import torch.nn as nn\n",
    "import torch.nn.functional as F\n",
    "from torch.distributions import Categorical\n",
    "from models.utils import get_model\n",
    "from models.config import TOKENS_RAW_CUTOFF\n",
    "from models.seq2seqattn import init_weights, EncRnn, DecRnn, Seq2SeqAttn\n",
    "from collections import deque\n",
    "torch.autograd.set_detect_anomaly(True)\n",
    "\n",
    "#Load in models and helper functions\n",
    "\n",
    "w2v_model = get_model()\n",
    "# w2ind from w2v\n",
    "w2ind = {token: token_index for token_index, token in enumerate(w2v_model.wv.index2word)} \n",
    "# sorted vocab words\n",
    "assert w2v_model.vocabulary.sorted_vocab == True\n",
    "word_counts = {word: vocab_obj.count for word, vocab_obj in w2v_model.wv.vocab.items()}\n",
    "word_counts = sorted(word_counts.items(), key=lambda x:-x[1])\n",
    "words = [t[0] for t in word_counts]\n",
    "# sentence marker token inds\n",
    "sos_ind = w2ind['<sos>']\n",
    "eos_ind = w2ind['<eos>']\n",
    "# adjusted sequence length\n",
    "SEQ_LEN = 5 + 2 # sos, eos tokens\n",
    "# padding token\n",
    "TRG_PAD_IDX = w2ind[\".\"] # this is 0\n",
    "# vocab, embed dims\n",
    "VOCAB_SIZE, EMBED_DIM = w2v_model.wv.vectors.shape\n",
    "\n",
    "\n",
    "\n",
    "device = torch.device('cuda' if torch.cuda.is_available() else 'cpu')\n",
    "enc = EncRnn(hidden_size=64, num_layers=2, embed_size=EMBED_DIM)\n",
    "dec = DecRnn(hidden_size=64, num_layers=2, embed_size=EMBED_DIM, output_size=VOCAB_SIZE)\n",
    "agent = Seq2SeqAttn(enc, dec, TRG_PAD_IDX, VOCAB_SIZE, device).to(device)\n",
    "\n"
   ]
  },
  {
   "cell_type": "code",
   "execution_count": null,
   "metadata": {},
   "outputs": [],
   "source": []
  },
  {
   "cell_type": "code",
   "execution_count": 96,
   "metadata": {},
   "outputs": [],
   "source": [
    "class Discriminator(nn.Module):\n",
    "    def __init__(self,model,SEQ_LEN):\n",
    "        super(Discriminator, self).__init__()\n",
    "\n",
    "        self.state_encoder = model.encoder\n",
    "        self.action_encoder = model.encoder\n",
    "        \n",
    "        self.fc1 = nn.Linear(1280,512)\n",
    "        self.fc2 = nn.Linear(512,512)\n",
    "        self.fc3 = nn.Linear(512,1)\n",
    "        self.src_len = torch.Tensor([int(SEQ_LEN)])\n",
    "    def forward(self,x1,x2):\n",
    "        state_z, _ = self.state_encoder(x1, self.src_len)\n",
    "        action_z, _ = self.action_encoder(x2, self.src_len)\n",
    "\n",
    "        state_action = torch.cat([state_z.flatten().unsqueeze(0), action_z.flatten().unsqueeze(0)],dim=1)\n",
    "        \n",
    "        state_action = torch.relu(self.fc1(state_action))\n",
    "        state_action = torch.relu(self.fc2(state_action))\n",
    "        state_action = torch.sigmoid(self.fc3(state_action))\n",
    "\n",
    "        return state_action"
   ]
  },
  {
   "cell_type": "code",
   "execution_count": 97,
   "metadata": {},
   "outputs": [],
   "source": [
    "\n",
    "device = torch.device('cuda' if torch.cuda.is_available() else 'cpu')\n",
    "enc = EncRnn(hidden_size=64, num_layers=2, embed_size=EMBED_DIM)\n",
    "dec = DecRnn(hidden_size=64, num_layers=2, embed_size=EMBED_DIM, output_size=VOCAB_SIZE)\n",
    "enc_ = EncRnn(hidden_size=64, num_layers=2, embed_size=EMBED_DIM)\n",
    "dec_ = DecRnn(hidden_size=64, num_layers=2, embed_size=EMBED_DIM, output_size=VOCAB_SIZE)\n",
    "agent = Seq2SeqAttn(enc, dec, TRG_PAD_IDX, VOCAB_SIZE, device).to(device)\n",
    "# load in pre-trained model \n",
    "agent_ = Seq2SeqAttn(enc_, dec_, TRG_PAD_IDX, VOCAB_SIZE, device).to(device)\n",
    "agent.load_state_dict(torch.load(\n",
    "    '/scratch/nsk367/deepRL/limitation-learning/src/pretrained_generators/model-epoch10.pt'))\n",
    "agent_.load_state_dict(torch.load(\n",
    "    '/scratch/nsk367/deepRL/limitation-learning/src/pretrained_generators/model-epoch10.pt'))\n",
    "\n",
    "\n",
    "discrim = Discriminator(model=agent_,SEQ_LEN=5).to(device)"
   ]
  },
  {
   "cell_type": "code",
   "execution_count": 98,
   "metadata": {},
   "outputs": [],
   "source": [
    "# load in conversations (as a dictionary)\n",
    "d = torch.load('../dat/processed/padded_vectorized_states_v3.pt')\n"
   ]
  },
  {
   "cell_type": "code",
   "execution_count": 99,
   "metadata": {},
   "outputs": [],
   "source": [
    "import random\n",
    "import math"
   ]
  },
  {
   "cell_type": "code",
   "execution_count": 100,
   "metadata": {},
   "outputs": [],
   "source": [
    "def get_action_probs(model, input_state, sos_ind, eos_ind, SEQ_LEN, device):\n",
    "    \"\"\"\n",
    "    Given an input sequence and policy, produce a distribution over tokens the predicted token for each step in the sequence. \n",
    "    \"\"\"\n",
    "    src_tensor = input_state.reshape(1,7).to(device)\n",
    "    src_len = torch.Tensor([int(SEQ_LEN)])\n",
    "    encoder_outputs, hidden = model.encoder(src_tensor, src_len)\n",
    "    #print('encoutshape',encoder_outputs.shape)\n",
    "    mask = model.create_mask(src_tensor.transpose(1,0)).to(device)\n",
    "    trg_indexes = [sos_ind]\n",
    "    attentions = torch.zeros(SEQ_LEN, 1, len(input_state))\n",
    "    outputs = []\n",
    "    for i in range(SEQ_LEN):\n",
    "        trg_tensor = torch.LongTensor([trg_indexes[-1]]).to(device)\n",
    "        output, hidden, attention = model.decoder(trg_tensor, hidden, encoder_outputs, mask)\n",
    "        attentions[i] = attention\n",
    "        pred_token = output.argmax(1).item()\n",
    "        trg_indexes.append(pred_token)\n",
    "       # print(pred_token)\n",
    "        if pred_token == eos_ind: # end of sentence.\n",
    "        \n",
    "            break\n",
    "        outputs.append(output)\n",
    "        \n",
    "  #  trg_tokens = [words[int(ind)] for ind in trg_indexes]\n",
    "    #  remove <sos>\n",
    "    return F.softmax(torch.stack(outputs),dim=2).to(device)\n",
    "\n",
    "\n",
    "\n",
    "    "
   ]
  },
  {
   "cell_type": "code",
   "execution_count": 101,
   "metadata": {},
   "outputs": [],
   "source": [
    "def pad_action(action):\n",
    "    num_pads = 7 - action.shape[0] - 2\n",
    "    if num_pads == 0:\n",
    "        action = torch.cat((torch.LongTensor([sos_ind]), \n",
    "                        action.cpu()[1:-1],\n",
    "                        torch.LongTensor([eos_ind])), \n",
    "                       dim=0).to(device)\n",
    "    if num_pads == 0:\n",
    "        action =torch.cat((torch.LongTensor([sos_ind]), \n",
    "                        action.cpu()[1:-1],torch.LongTensor([0]),\n",
    "                        torch.LongTensor([eos_ind])), \n",
    "                       dim=0).to(device)\n",
    "        \n",
    "    if num_pads == 1:\n",
    "        action = torch.cat((torch.LongTensor([sos_ind]), \n",
    "                        action.cpu()[1:-1],torch.LongTensor([0]),\n",
    "                            torch.LongTensor([0]),\n",
    "                        torch.LongTensor([eos_ind])), \n",
    "                       dim=0).to(device)\n",
    "    if num_pads == 2:\n",
    "        action = torch.cat((torch.LongTensor([sos_ind]), \n",
    "                        action.cpu()[1:-1],torch.LongTensor([0]),\n",
    "                            torch.LongTensor([0]),\n",
    "                            torch.LongTensor([0]),\n",
    "\n",
    "                        torch.LongTensor([eos_ind])), \n",
    "                       dim=0).to(device)\n",
    "    if num_pads == 3:\n",
    "        action = torch.cat((torch.LongTensor([sos_ind]), \n",
    "                        action.cpu()[1:-1],torch.LongTensor([0]),\n",
    "                            torch.LongTensor([0]),\n",
    "                            torch.LongTensor([0]),\n",
    "                            torch.LongTensor([0]),\n",
    "\n",
    "\n",
    "                        torch.LongTensor([eos_ind])), \n",
    "                       dim=0).to(device)\n",
    "    if num_pads == 4:\n",
    "        action = torch.cat((torch.LongTensor([sos_ind]), \n",
    "                        action.cpu()[1:-1],torch.LongTensor([0]),\n",
    "                            torch.LongTensor([0]),\n",
    "                            torch.LongTensor([0]),\n",
    "                            torch.LongTensor([0]),\n",
    "                            torch.LongTensor([0]),\n",
    "\n",
    "\n",
    "                        torch.LongTensor([eos_ind])), \n",
    "                       dim=0).to(device)\n",
    "    if num_pads == 5:\n",
    "        action = torch.cat((torch.LongTensor([sos_ind]), \n",
    "                        action.cpu()[1:-1],torch.LongTensor([0]),\n",
    "                            torch.LongTensor([0]),\n",
    "                            torch.LongTensor([0]),\n",
    "                            torch.LongTensor([0]),\n",
    "                            torch.LongTensor([0]),\n",
    "                            torch.LongTensor([0]),\n",
    "\n",
    "                        torch.LongTensor([eos_ind])), \n",
    "                       dim=0).to(device)\n",
    "    return action"
   ]
  },
  {
   "cell_type": "code",
   "execution_count": 102,
   "metadata": {},
   "outputs": [],
   "source": [
    "def get_action(action_probs):\n",
    "    action = []\n",
    "    action_log_probs = []\n",
    "    for i in action_probs:\n",
    "        m = Categorical(i)\n",
    "        action_ = m.sample()\n",
    "        action_log_prob = m.log_prob(action_)# * reward\n",
    "        action.append(action_.item())\n",
    "        action_log_probs.append(action_log_prob)\n",
    "    action = torch.Tensor(action).to(device).long()\n",
    "    return action, torch.stack(action_log_probs)#.squeeze()\n",
    "\n",
    "def get_reward(discrim, state, action):\n",
    "    \"\"\"\n",
    "    The reward function according to irl. It's log D(s,a). \n",
    "    \n",
    "    Reward is higher the closer this is to 0, because the more similar it is to an expert action. :\n",
    "    Is quite close to imitation learning, but hope here is that with such a large number of expert demonstrations and entropy bonuses etc. it learns more than direct imitation. \n",
    "    \"\"\"\n",
    "    state = state.unsqueeze(0)\n",
    "    action = action.unsqueeze(0)\n",
    "    \n",
    "    with torch.no_grad():\n",
    "        #TODO: better resize\n",
    "        return -math.log(discrim(state,action))\n",
    "    \n",
    "def train_discrim(memory, discrim_optim, args):\n",
    "    \"\"\"\n",
    "    Training the discriminator. \n",
    "\n",
    "    Use binary cross entropy to classify whether \n",
    "    or not a sequence was predicted by the expert (real data) or actor. \n",
    "    \"\"\"\n",
    "    \n",
    "    criterion = torch.nn.BCELoss() # classify\n",
    "    learner = torch.stack([memory[i][0] for i in range(len(memory))])\n",
    "    expert = torch.stack([memory[i][1] for i in range(len(memory))])\n",
    "    policy_optim.zero_grad()\n",
    "    discrim_optim.zero_grad()\n",
    "    # actions came from expert or learner\n",
    "    discrim_loss = criterion(learner.squeeze(1), torch.ones((args.batch_size, 1)).to(device)) + \\\n",
    "                    criterion(expert.squeeze(1), torch.zeros((args.batch_size, 1)).to(device))\n",
    "            # discrim loss: predict agent is all wrong, get as close to 0, and predict expert is 1, getting as close to 1 as possible. \n",
    "    discrim_loss.backward()\n",
    "\n",
    "    for _ in range(args.discrim_update_num):\n",
    "        discrim_optim.step()\n",
    "            # take these steps, do it however many times specified. \n",
    "        #return discrim(states,expert_actions) , discrim(states,actions)\n",
    "    expert_acc = ((expert < 0.5).float()).mean().item()\n",
    "    learner_acc = ((learner > 0.5).float()).mean().item()\n",
    "\n",
    "\n",
    "    return discrim_loss.item(), expert_acc, learner_acc # accuracy, it's the same kind, but because imbalanced better to look at separately. \n",
    "\n",
    "def train_policy(memory, policy_optim, args):\n",
    "    \"\"\"\n",
    "    Take several Policy Gradient steps to imporve the policy\n",
    "    \n",
    "    using the single step returns to optimize objective. \n",
    "    \n",
    "    \n",
    "    \n",
    "    \"\"\"\n",
    "    \n",
    "    rlog_probs = torch.cat([memory[i][0] for i in range(len(memory))])\n",
    "    policy_optim.zero_grad()\n",
    "    discrim_optim.zero_grad()\n",
    "\n",
    "    policy_loss = rlog_probs.sum()\n",
    "    policy_loss.backward()\n",
    "    \n",
    "    for _ in range(args.actor_critic_update_num):\n",
    "\n",
    "        policy_optim.step()\n",
    "    return policy_loss.item()"
   ]
  },
  {
   "cell_type": "code",
   "execution_count": 103,
   "metadata": {},
   "outputs": [],
   "source": [
    "import torch.optim as optim\n"
   ]
  },
  {
   "cell_type": "code",
   "execution_count": 104,
   "metadata": {},
   "outputs": [],
   "source": [
    "from argparse import Namespace\n",
    "args = Namespace(load_model=None,\n",
    "                agent_learning_rate=1e-9,\n",
    "                discrim_learning_rate=1e-3,\n",
    "                discrim_update_num=5,\n",
    "                actor_critic_update_num=1,\n",
    "                batch_size=512,\n",
    "                suspend_accu_exp=None,# won't stop\n",
    "                suspend_accu_gen=None,\n",
    "                max_iter_num=50,\n",
    "                logdir='logs/GAIL',\n",
    "                )"
   ]
  },
  {
   "cell_type": "code",
   "execution_count": 105,
   "metadata": {},
   "outputs": [],
   "source": [
    "\n",
    "policy_optim = optim.Adam(agent.parameters(), lr=args.agent_learning_rate)\n",
    "\n",
    "discrim_optim = optim.Adam(discrim.parameters(), lr=args.discrim_learning_rate)\n"
   ]
  },
  {
   "cell_type": "code",
   "execution_count": 106,
   "metadata": {},
   "outputs": [
    {
     "name": "stdout",
     "output_type": "stream",
     "text": [
      "374.0946650416587\n",
      "Expert: 97.46% | Learner: 3.32%\n",
      "<sos> who is that guy ? <eos> | <sos> , yeah . . <eos> | <sos> policy man in <gpe> . <eos>\n",
      "199.73490183139234\n",
      "Expert: 41.60% | Learner: 89.84%\n",
      "<sos> there 's this guy ! <eos> | <sos> ? ? ? . <eos> | <sos> what ? . . . <eos>\n",
      "1866.9278200194185\n",
      "Expert: 100.00% | Learner: 0.00%\n",
      "<sos> my folks are . . <eos> | <sos> here you here . <eos> | <sos> stay here . . . <eos>\n",
      "424.5271300788552\n",
      "Expert: 90.82% | Learner: 45.90%\n",
      "<sos> you 're working late . <eos> | <sos> ? ? ? . <eos> | <sos> remember him ? . . <eos>\n",
      "145.52843649712855\n",
      "Expert: 34.77% | Learner: 96.29%\n",
      "<sos> lunch ... . . . <eos> | <sos> love ... <loc> . <eos> | <sos> god ... . . . <eos>\n",
      "124.9578781918649\n",
      "Expert: 24.02% | Learner: 98.83%\n",
      "<sos> pain . . . . <eos> | <sos> 'd you die . <eos> | <sos> the <org> again . . <eos>\n",
      "199.04968052769382\n",
      "Expert: 59.77% | Learner: 92.38%\n",
      "<sos> it 's my nature . <eos> | <sos> is -- fun . <eos> | <sos> and this is mine . <eos>\n",
      "270.4270960106011\n",
      "Expert: 80.27% | Learner: 69.34%\n",
      "<sos> that feels so great . <eos> | <sos> ... okay . . <eos> | <sos> good ... . . . <eos>\n",
      "278.4214825223883\n",
      "Expert: 84.18% | Learner: 68.95%\n",
      "<sos> truth ? . . . <eos> | <sos> shit ! here . <eos> | <sos> sure . . . . <eos>\n",
      "266.81071897353877\n",
      "Expert: 84.18% | Learner: 71.48%\n",
      "<sos> no radio or tv ... <eos> | <sos> you <org> here . <eos> | <sos> and no <org> . . <eos>\n",
      "187.71613547267376\n",
      "Expert: 78.91% | Learner: 83.98%\n",
      "<sos> from <person> . why ? <eos> | <sos> to ! ! . <eos> | <sos> whose boat is that ? <eos>\n",
      "176.49182395876335\n",
      "Expert: 78.12% | Learner: 85.55%\n",
      "<sos> where is everybody ? . <eos> | <sos> did killed a . <eos> | <sos> it 's early yet . <eos>\n",
      "187.11245210014303\n",
      "Expert: 77.54% | Learner: 85.55%\n",
      "<sos> i asked him . . <eos> | <sos> ! ! ! . <eos> | <sos> oh . . . . <eos>\n",
      "206.13973401257715\n",
      "Expert: 87.11% | Learner: 84.77%\n",
      "<sos> he lives on <ordinal> ? <eos> | <sos> , that father . <eos> | <sos> <ordinal> . . . . <eos>\n",
      "201.4539233487588\n",
      "Expert: 87.50% | Learner: 84.18%\n",
      "<sos> you got my note ! <eos> | <sos> love it say . <eos> | <sos> well ... yes ... . <eos>\n",
      "107.11993245807848\n",
      "Expert: 82.23% | Learner: 94.14%\n",
      "<sos> at <time> ? . . <eos> | <sos> ... armed howdy . <eos> | <sos> yeah . at <time> . <eos>\n",
      "104.30100719165728\n",
      "Expert: 81.45% | Learner: 93.75%\n",
      "<sos> mrs. <person> ! . . <eos> | <sos> you you ? . <eos> | <sos> in <time> <time> ! . <eos>\n",
      "135.00535827226085\n",
      "Expert: 86.13% | Learner: 91.60%\n",
      "<sos> \" <event> . \" . <eos> | <sos> got the please . <eos> | <sos> got him ! . . <eos>\n",
      "158.54848219039621\n",
      "Expert: 89.65% | Learner: 89.26%\n",
      "<sos> you want to try ? <eos> | <sos> 'll time i . <eos> | <sos> sure . . . . <eos>\n",
      "117.5846185023437\n",
      "Expert: 85.94% | Learner: 93.16%\n",
      "<sos> baron <person> . . . <eos> | <sos> ahead ! ? . <eos> | <sos> must be some mistake . <eos>\n",
      "82.37215201080117\n",
      "Expert: 82.62% | Learner: 95.31%\n",
      "<sos> you mean <gpe> ? . <eos> | <sos> always sometimes ? . <eos> | <sos> no . <gpe> <gpe> . <eos>\n",
      "113.46254526563521\n",
      "Expert: 85.35% | Learner: 92.58%\n",
      "<sos> -- burn them . . <eos> | <sos> ladies ladies . . <eos> | <sos> and old ladies ? . <eos>\n",
      "209.26966393054957\n",
      "Expert: 93.16% | Learner: 83.98%\n",
      "<sos> so who left who ? <eos> | <sos> terrible your left . <eos> | <sos> she left me . . <eos>\n",
      "110.86589513639427\n",
      "Expert: 91.02% | Learner: 92.19%\n",
      "<sos> ha ha . . . <eos> | heh heh heh heh heh heh heh | <sos> heh heh . . . <eos>\n",
      "65.81181616935872\n",
      "Expert: 84.38% | Learner: 95.70%\n",
      "<sos> i said keep it . <eos> | <sos> think you -- . <eos> | <sos> are you kidding me ? <eos>\n",
      "57.34879576694692\n",
      "Expert: 85.35% | Learner: 95.90%\n",
      "<sos> takes me back . . <eos> | <sos> , ideas go . <eos> | <sos> well . . . . <eos>\n",
      "153.88465122725398\n",
      "Expert: 94.53% | Learner: 88.48%\n",
      "<sos> they are n't ? . <eos> | <sos> promise to ca . <eos> | <sos> no . . . . <eos>\n",
      "183.49920930169978\n",
      "Expert: 95.90% | Learner: 83.01%\n",
      "<sos> great name . <norp> ? <eos> | <sos> , doctor . . <eos> | <sos> yes . . . . <eos>\n",
      "116.5608258994861\n",
      "Expert: 90.62% | Learner: 92.77%\n",
      "<sos> working with ? . . <eos> | <sos> ? <person> . . <eos> | <sos> agent <person> . . . <eos>\n",
      "48.03740359549188\n",
      "Expert: 84.57% | Learner: 96.48%\n",
      "<sos> in heaven . . . <eos> | <sos> ? home ? . <eos> | <sos> she 's dead ? . <eos>\n",
      "86.40415223236603\n",
      "Expert: 89.26% | Learner: 92.38%\n",
      "<sos> no ... do you ? <eos> | <sos> ? ! ! . <eos> | <sos> why should i ? . <eos>\n",
      "146.4606887129983\n",
      "Expert: 94.73% | Learner: 88.28%\n",
      "<sos> i 'm the <norp> . <eos> | <sos> ca n't leave . <eos> | <sos> <person> ? . . . <eos>\n",
      "158.21929832317878\n",
      "Expert: 97.07% | Learner: 86.33%\n",
      "<sos> drive through it ! . <eos> | <sos> 's work work . <eos> | <sos> it wo n't work . <eos>\n",
      "90.01073759222915\n",
      "Expert: 92.58% | Learner: 93.36%\n",
      "<sos> where is the money ? <eos> | <sos> different more more . <eos> | <sos> do n't tell him -- <eos>\n",
      "51.576658932226486\n",
      "Expert: 86.52% | Learner: 96.68%\n",
      "<sos> do you tell lies ? <eos> | <sos> is he so . <eos> | <sos> who is it ? . <eos>\n",
      "48.24063008500013\n",
      "Expert: 88.48% | Learner: 95.90%\n",
      "<sos> i want to go ! <eos> | <sos> do kidding raise . <eos> | <sos> where ? . . . <eos>\n",
      "102.67431631658104\n",
      "Expert: 94.73% | Learner: 92.19%\n",
      "<sos> yeah , hurry up . <eos> | <sos> , ass ! . <eos> | <sos> come on <person> ! . <eos>\n",
      "129.85872650649446\n",
      "Expert: 96.29% | Learner: 88.67%\n",
      "<sos> what 's the difference ... <eos> | <sos> the that money . <eos> | <sos> that 's for food . <eos>\n",
      "90.77331970207099\n",
      "Expert: 95.90% | Learner: 91.99%\n",
      "<sos> by reading my thoughts ? <eos> | <sos> <cardinal> <cardinal> <person> . <eos> | <sos> if necessary . . . <eos>\n",
      "48.737588314951296\n",
      "Expert: 91.02% | Learner: 96.48%\n",
      "<sos> we 're <norp> . . <eos> | <sos> you are are . <eos> | <sos> i -- . . . <eos>\n",
      "49.39482926531177\n",
      "Expert: 89.06% | Learner: 95.70%\n",
      "<sos> i 'm finished . . <eos> | <sos> 're are ! . <eos> | <sos> finished ! . . . <eos>\n",
      "72.6417640439614\n",
      "Expert: 92.38% | Learner: 95.90%\n",
      "<sos> how 're the hands ? <eos> | <sos> 're just somewhere . <eos> | <sos> they 're fine . . <eos>\n",
      "132.3230009714006\n",
      "Expert: 96.48% | Learner: 89.26%\n",
      "<sos> <person> <person> on too . <eos> | <sos> ? kiss forget . <eos> | <sos> but i .. . . <eos>\n",
      "139.71677736338046\n",
      "Expert: 96.68% | Learner: 91.60%\n",
      "<sos> most of the times . <eos> | <sos> neither , how . <eos> | <sos> not <date> <date> ? . <eos>\n",
      "72.5704165740256\n",
      "Expert: 94.92% | Learner: 95.90%\n",
      "<sos> did you now . . <eos> | <sos> you do did . <eos> | <sos> surely she is older ? <eos>\n",
      "36.85879158508157\n",
      "Expert: 87.30% | Learner: 98.05%\n",
      "<sos> you mean from it . <eos> | <sos> ? ? ? . <eos> | <sos> yes , of course . <eos>\n",
      "52.30079871680605\n",
      "Expert: 91.99% | Learner: 96.09%\n",
      "<sos> ellie . <person> . . <eos> | <sos> here nice ! . <eos> | <sos> <person> <person> . . . <eos>\n",
      "89.9141116543995\n",
      "Expert: 96.68% | Learner: 93.95%\n",
      "<sos> a grave ... . . <eos> | <sos> , okay ... . <eos> | <sos> where ? . . . <eos>\n",
      "101.00172965984471\n",
      "Expert: 97.66% | Learner: 92.38%\n",
      "<sos> show me . . . <eos> | <sos> 's ? 're . <eos> | <sos> keep moving . . . <eos>\n",
      "62.609883490072704\n",
      "Expert: 96.48% | Learner: 94.92%\n",
      "<sos> mom said i should . <eos> | <sos> 'd he go . <eos> | <sos> oh . . . . <eos>\n"
     ]
    }
   ],
   "source": [
    "train_discrim_flag = True\n",
    "train_policy_flag = True\n",
    "policy_losses = []\n",
    "discrim_losses = []\n",
    "expert_accs = []\n",
    "learner_accs = []\n",
    "\n",
    "for step in range(args.max_iter_num):\n",
    "    score = 0\n",
    "    discrim_memory = deque()\n",
    "    learner_memory = deque()\n",
    "    trajectories = random.sample(d.items(),k=args.batch_size)\n",
    "    for (index, vects) in trajectories:\n",
    "        input_state, expert_action = vects\n",
    "        input_state = torch.cat((torch.LongTensor([sos_ind]), \n",
    "                                 input_state,\n",
    "                                 torch.LongTensor([eos_ind])), \n",
    "                                 dim=0).to(device)\n",
    "        expert_action = torch.cat((torch.LongTensor([sos_ind]), \n",
    "                                expert_action, \n",
    "                                torch.LongTensor([eos_ind])), \n",
    "                               dim=0).to(device)\n",
    "        action_probs =  get_action_probs(agent, input_state, sos_ind, eos_ind, SEQ_LEN, device)\n",
    "        action, action_log_probs = get_action(action_probs)\n",
    "       # print(action)]\n",
    "        action = action.detach()\n",
    "        action = pad_action(action)\n",
    "        #print(action)\n",
    "    \n",
    "        #obtain what the estimated reward is for this \n",
    "        irl_reward = get_reward(discrim,input_state,action)\n",
    "        score += irl_reward\n",
    "        learner = discrim(input_state.unsqueeze(0).detach(), action.unsqueeze(0).detach()) #pass (s,a) through discriminator\n",
    "        expert = discrim(input_state.unsqueeze(0), expert_action.unsqueeze(0)) #pass (s,a) through discriminator\n",
    "\n",
    "        discrim_memory.append([learner,expert])\n",
    "        learner_memory.append([-irl_reward  * action_log_probs])\n",
    "    if train_policy_flag:\n",
    "        policy_loss = train_policy(learner_memory, policy_optim, args)   \n",
    "        policy_losses.append(policy_loss)\n",
    "    print(score)\n",
    "    if train_discrim_flag:\n",
    "        discrim_loss, expert_acc, learner_acc = train_discrim(discrim_memory, discrim_optim, args) \n",
    "        print(\"Expert: %.2f%% | Learner: %.2f%%\" % (expert_acc * 100, learner_acc * 100))\n",
    "        discrim_losses.append(discrim_loss)\n",
    "        expert_accs.append(expert_acc)\n",
    "        learner_accs.append(learner_acc)\n",
    "\n",
    "\n",
    "      #  writer.add_scalar('log/expert_acc', float(expert_acc), iter) #logg\n",
    "      #  writer.add_scalar('log/learner_acc', float(learner_acc), iter) #logg\n",
    "      #  writer.add_scalar('log/avg_acc', float(learner_acc + expert_acc)/2, iter) #logg\n",
    "        if args.suspend_accu_exp is not None: #only if not None do we check.\n",
    "            if expert_acc > args.suspend_accu_exp and learner_acc > args.suspend_accu_gen:\n",
    "                train_discrim_flag = False\n",
    "  \n",
    "    expert_tokens = \" \".join([words[int(ind)] for ind in expert_action])\n",
    "    action_tokens = \" \".join([words[int(ind)] for ind in action])\n",
    "    state_tokens = \" \".join([words[int(ind)] for ind in input_state])\n",
    "    print(state_tokens,'|',action_tokens,'|',expert_tokens)\n",
    "\n"
   ]
  },
  {
   "cell_type": "markdown",
   "metadata": {},
   "source": [
    "Now examine the results as plots"
   ]
  },
  {
   "cell_type": "code",
   "execution_count": 33,
   "metadata": {},
   "outputs": [],
   "source": [
    "import matplotlib.pyplot as plt\n",
    "%matplotlib inline\n",
    "\n"
   ]
  },
  {
   "cell_type": "code",
   "execution_count": 34,
   "metadata": {},
   "outputs": [
    {
     "data": {
      "text/plain": [
       "<matplotlib.legend.Legend at 0x2b6c0f18e970>"
      ]
     },
     "execution_count": 34,
     "metadata": {},
     "output_type": "execute_result"
    },
    {
     "data": {
      "image/png": "[encoded data removed]",
      "text/plain": [
       "<Figure size 432x288 with 1 Axes>"
      ]
     },
     "metadata": {
      "needs_background": "light"
     },
     "output_type": "display_data"
    }
   ],
   "source": [
    "plt.plot(expert_accs,label='expert')\n",
    "plt.plot(learner_accs,label='policy')\n",
    "plt.legend()"
   ]
  },
  {
   "cell_type": "code",
   "execution_count": 38,
   "metadata": {},
   "outputs": [
    {
     "data": {
      "text/plain": [
       "[<matplotlib.lines.Line2D at 0x2b6c0f2a71f0>]"
      ]
     },
     "execution_count": 38,
     "metadata": {},
     "output_type": "execute_result"
    },
    {
     "data": {
      "image/png": "[encoded data removed]",
      "text/plain": [
       "<Figure size 432x288 with 1 Axes>"
      ]
     },
     "metadata": {
      "needs_background": "light"
     },
     "output_type": "display_data"
    }
   ],
   "source": [
    "plt.plot(discrim_losses)"
   ]
  },
  {
   "cell_type": "code",
   "execution_count": 39,
   "metadata": {},
   "outputs": [
    {
     "data": {
      "text/plain": [
       "[<matplotlib.lines.Line2D at 0x2b6c0f2f5b80>]"
      ]
     },
     "execution_count": 39,
     "metadata": {},
     "output_type": "execute_result"
    },
    {
     "data": {
      "image/png": "[encoded data removed]",
      "text/plain": [
       "<Figure size 432x288 with 1 Axes>"
      ]
     },
     "metadata": {
      "needs_background": "light"
     },
     "output_type": "display_data"
    }
   ],
   "source": [
    "plt.plot(policy_losses)"
   ]
  },
  {
   "cell_type": "markdown",
   "metadata": {},
   "source": [
    "# Policy Analysis\n",
    "\n",
    "\n",
    "Using our best policy model, we now provide several examples from the policy network. "
   ]
  },
  {
   "cell_type": "code",
   "execution_count": 42,
   "metadata": {},
   "outputs": [
    {
     "name": "stdout",
     "output_type": "stream",
     "text": [
      "<sos> what did she say ? <eos> | <sos> much he know . <eos> | <sos> beats me . . . <eos>\n",
      "<sos> where 's the <cardinal> ? <eos> | <sos> 's other hand . <eos> | <sos> in your other hand . <eos>\n",
      "<sos> you have beautiful eyes . <eos> | <sos> 'm <person> beautiful . <eos> | <sos> you have beautiful eyes . <eos>\n",
      "<sos> we 've gone insane . <eos> | <sos> about fish ? . <eos> | <sos> yup . . . . <eos>\n",
      "<sos> -- <person> ? . . <eos> | <sos> 'm n't know . <eos> | <sos> not anymore . . . <eos>\n",
      "<sos> i 'm so scared ... <eos> | <sos> ... daddy go . <eos> | <sos> do n't be . . <eos>\n",
      "<sos> <ordinal> time for everything . <eos> | <sos> was , ? . <eos> | <sos> that 's right . . <eos>\n",
      "<sos> <org> is dead . . <eos> | <sos> me ? promise . <eos> | <sos> true . . . . <eos>\n",
      "<sos> ahhh , ahhh ... . <eos> | <sos> 's you ? . <eos> | <sos> now what ? . . <eos>\n",
      "<sos> tell me about them ... <eos> | <sos> ! no know . <eos> | <sos> if you like . . <eos>\n"
     ]
    }
   ],
   "source": [
    "for step in range(args.max_iter_num):\n",
    "    trajectories = random.sample(d.items(),k=1)\n",
    "    for (index, vects) in trajectories:\n",
    "        input_state, expert_action = vects\n",
    "        input_state = torch.cat((torch.LongTensor([sos_ind]), \n",
    "                                 input_state,\n",
    "                                 torch.LongTensor([eos_ind])), \n",
    "                                 dim=0).to(device)\n",
    "        expert_action = torch.cat((torch.LongTensor([sos_ind]), \n",
    "                                expert_action, \n",
    "                                torch.LongTensor([eos_ind])), \n",
    "                               dim=0).to(device)\n",
    "        action_probs =  get_action_probs(agent, input_state, sos_ind, eos_ind, SEQ_LEN, device)\n",
    "        action, action_log_probs = get_action(action_probs)\n",
    "        action = action.detach()\n",
    "        action = pad_action(action)\n",
    "  \n",
    "    expert_tokens = \" \".join([words[int(ind)] for ind in expert_action])\n",
    "    action_tokens = \" \".join([words[int(ind)] for ind in action])\n",
    "    state_tokens = \" \".join([words[int(ind)] for ind in input_state])\n",
    "    print(state_tokens,'|',action_tokens,'|',expert_tokens)\n",
    "\n"
   ]
  },
  {
   "cell_type": "markdown",
   "metadata": {},
   "source": [
    "# Discriminator Analysis"
   ]
  },
  {
   "cell_type": "code",
   "execution_count": 90,
   "metadata": {},
   "outputs": [
    {
     "name": "stdout",
     "output_type": "stream",
     "text": [
      "1.1968682535165647 0.1672576715032808\n",
      "<sos> who ? . . . <eos> | <sos> <person> <gpe> ? . <eos> | <sos> <person> . . . . <eos>\n",
      "0.9659674721681502 0.08441950920040878\n",
      "<sos> <person> ! from downstairs ! <eos> | <sos> love <gpe> ? . <eos> | <sos> ... hello . . . <eos>\n",
      "1.3282960137090964 0.01328346982136546\n",
      "<sos> down to my car . <eos> | <sos> ? ? ? . <eos> | <sos> why ? . . . <eos>\n",
      "0.11238012448410264 0.45551689974704324\n",
      "<sos> you getting this ? . <eos> | <sos> - none ! . <eos> | <sos> -- every word . . <eos>\n",
      "1.3235711666246879 0.22317892729660663\n",
      "<sos> you 're there now ? <eos> | <sos> , brother like . <eos> | <sos> oui . . . . <eos>\n",
      "1.0117075128167796 1.0320269670309163\n",
      "<sos> i could die . . <eos> | <sos> safe he ? . <eos> | <sos> so could i. . . <eos>\n",
      "1.9660022703267888 0.26367019628551097\n",
      "<sos> does that work ? . <eos> | <sos> mr. same yeah . <eos> | <sos> yeah ... seems to . <eos>\n",
      "1.233673590936996 0.3479866089538975\n",
      "<sos> you black ? . . <eos> | <sos> better better please . <eos> | <sos> no . . . . <eos>\n",
      "1.3629239496478518 0.012819752828849186\n",
      "<sos> he says - . . <eos> | <sos> stuff ! ? . <eos> | <sos> here . . . . <eos>\n",
      "2.294149374383487 0.6027136734782008\n",
      "<sos> where 's dr. <person> -- <eos> | <sos> 'm doctor <gpe> . <eos> | <sos> i 'm doctor <person> ! <eos>\n"
     ]
    }
   ],
   "source": [
    "for step in range(args.max_iter_num):\n",
    "    trajectories = random.sample(d.items(),k=1)\n",
    "    for (index, vects) in trajectories:\n",
    "        input_state, expert_action = vects\n",
    "        input_state = torch.cat((torch.LongTensor([sos_ind]), \n",
    "                                 input_state,\n",
    "                                 torch.LongTensor([eos_ind])), \n",
    "                                 dim=0).to(device)\n",
    "        expert_action = torch.cat((torch.LongTensor([sos_ind]), \n",
    "                                expert_action, \n",
    "                                torch.LongTensor([eos_ind])), \n",
    "                               dim=0).to(device)\n",
    "        action_probs =  get_action_probs(agent, input_state, sos_ind, eos_ind, SEQ_LEN, device)\n",
    "        action, action_log_probs = get_action(action_probs)\n",
    "        action = action.detach()\n",
    "        action = pad_action(action)\n",
    "        print(get_reward(discrim,input_state,expert_action), get_reward(discrim,input_state,action))\n",
    "        \n",
    "        \n",
    "        expert_tokens = \" \".join([words[int(ind)] for ind in expert_action])\n",
    "        action_tokens = \" \".join([words[int(ind)] for ind in action])\n",
    "        state_tokens = \" \".join([words[int(ind)] for ind in input_state])\n",
    "        print(state_tokens,'|',action_tokens,'|',expert_tokens)\n",
    "\n"
   ]
  },
  {
   "cell_type": "code",
   "execution_count": 59,
   "metadata": {},
   "outputs": [
    {
     "data": {
      "text/plain": [
       "torch.Size([7])"
      ]
     },
     "execution_count": 59,
     "metadata": {},
     "output_type": "execute_result"
    }
   ],
   "source": [
    "input_state.shape"
   ]
  },
  {
   "cell_type": "code",
   "execution_count": 56,
   "metadata": {},
   "outputs": [],
   "source": []
  },
  {
   "cell_type": "code",
   "execution_count": 91,
   "metadata": {},
   "outputs": [],
   "source": [
    "i = 0\n",
    "rewards = []\n",
    "while i < 1000:\n",
    "    random_inputs = [1929, random.randint(a=0,b=1928),random.randint(a=0,b=1928),random.randint(a=0,b=1928),random.randint(a=0,b=1928),random.randint(a=0,b=1928), 1930]\n",
    "    random_action = torch.Tensor(random_inputs).long().cuda()\n",
    "    rewards.append(get_reward(discrim,input_state,random_action))\n",
    "    i += 1\n",
    "    "
   ]
  },
  {
   "cell_type": "code",
   "execution_count": 92,
   "metadata": {},
   "outputs": [
    {
     "data": {
      "text/plain": [
       "<matplotlib.lines.Line2D at 0x2b6c23e8dc10>"
      ]
     },
     "execution_count": 92,
     "metadata": {},
     "output_type": "execute_result"
    },
    {
     "data": {
      "image/png": "[encoded data removed]",
      "text/plain": [
       "<Figure size 432x288 with 1 Axes>"
      ]
     },
     "metadata": {
      "needs_background": "light"
     },
     "output_type": "display_data"
    }
   ],
   "source": [
    "plt.axvline(get_reward(discrim,input_state,expert_action))"
   ]
  },
  {
   "cell_type": "code",
   "execution_count": 94,
   "metadata": {},
   "outputs": [
    {
     "data": {
      "text/plain": [
       "<matplotlib.legend.Legend at 0x2b6c24de6880>"
      ]
     },
     "execution_count": 94,
     "metadata": {},
     "output_type": "execute_result"
    },
    {
     "data": {
      "image/png": "[encoded data removed]",
      "text/plain": [
       "<Figure size 432x288 with 1 Axes>"
      ]
     },
     "metadata": {
      "needs_background": "light"
     },
     "output_type": "display_data"
    }
   ],
   "source": [
    "plt.hist(rewards,bins=100)\n",
    "plt.axvline(get_reward(discrim,input_state,expert_action),color='k',label='reward of expert')\n",
    "plt.axvline(get_reward(discrim,input_state,action),color='y',label='reward of policy')\n",
    "\n",
    "plt.xlabel(\"Reward\",fontsize=15)\n",
    "plt.ylabel(\"Frequency\",fontsize=15)\n",
    "plt.legend()"
   ]
  },
  {
   "cell_type": "code",
   "execution_count": 86,
   "metadata": {},
   "outputs": [
    {
     "data": {
      "text/plain": [
       "<matplotlib.lines.Line2D at 0x2b6c24834e80>"
      ]
     },
     "execution_count": 86,
     "metadata": {},
     "output_type": "execute_result"
    },
    {
     "data": {
      "image/png": "[encoded data removed]",
      "text/plain": [
       "<Figure size 432x288 with 1 Axes>"
      ]
     },
     "metadata": {
      "needs_background": "light"
     },
     "output_type": "display_data"
    }
   ],
   "source": [
    "plt.axvline(get_reward(discrim,input_state,action),label='estimated reward of expert')\n"
   ]
  },
  {
   "cell_type": "code",
   "execution_count": null,
   "metadata": {},
   "outputs": [],
   "source": []
  }
 ],
 "metadata": {
  "kernelspec": {
   "display_name": "Python 3",
   "language": "python",
   "name": "python3"
  },
  "language_info": {
   "codemirror_mode": {
    "name": "ipython",
    "version": 3
   },
   "file_extension": ".py",
   "mimetype": "text/x-python",
   "name": "python",
   "nbconvert_exporter": "python",
   "pygments_lexer": "ipython3",
   "version": "3.7.4"
  }
 },
 "nbformat": 4,
 "nbformat_minor": 4
}
