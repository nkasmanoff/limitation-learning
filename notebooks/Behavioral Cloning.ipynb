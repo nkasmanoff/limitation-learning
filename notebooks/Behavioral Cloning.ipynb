{
 "cells": [
  {
   "cell_type": "code",
   "execution_count": 19,
   "metadata": {},
   "outputs": [],
   "source": [
    "\n",
    "import sys \n",
    "sys.path.append('../src')\n",
    "import os\n",
    "import pickle\n",
    "import argparse\n",
    "import numpy as np\n",
    "from collections import deque\n",
    "import torch.nn.functional as F\n",
    "import torch\n",
    "import torch.optim as optim\n",
    "from tensorboardX import SummaryWriter \n",
    "\n",
    "from models.actor import Actor\n",
    "from models.critic import Critic\n",
    "from models.discriminator import Discriminator\n",
    "from GAIL import *\n",
    "\n",
    "from dialog_environment import DialogEnvironment\n",
    "\n",
    "device='cuda' # for now"
   ]
  },
  {
   "cell_type": "code",
   "execution_count": 22,
   "metadata": {},
   "outputs": [],
   "source": [
    "\n",
    "from argparse import Namespace\n",
    "args = Namespace(load_model=None,\n",
    "                render=False,\n",
    "                gamma=.99,\n",
    "                lamda=.98,\n",
    "                learning_rate=5e-3,\n",
    "                l2_rate=0,\n",
    "                clip_param=.2,\n",
    "                discrim_update_num=1,\n",
    "                actor_critic_update_num=100,\n",
    "                total_sample_size=100,\n",
    "                batch_size=512,\n",
    "                suspend_accu_exp=None,# won't stop\n",
    "                suspend_accu_gen=None,\n",
    "                max_iter_num=4000,\n",
    "                seed=0,\n",
    "                logdir='logs/BCP',\n",
    "                 hidden_size=512,\n",
    "                 num_layers=3,\n",
    "                 seq_len=5,\n",
    "                 input_size=50\n",
    "                )"
   ]
  },
  {
   "cell_type": "code",
   "execution_count": null,
   "metadata": {
    "scrolled": true
   },
   "outputs": [
    {
     "name": "stdout",
     "output_type": "stream",
     "text": [
      "Loss: tensor(0.1459, device='cuda:0', grad_fn=<L1LossBackward>)\n",
      "0.1014858258051845\n",
      "Loss: tensor(0.1446, device='cuda:0', grad_fn=<L1LossBackward>)\n",
      "0.2044568582634838\n",
      "Loss: tensor(0.1446, device='cuda:0', grad_fn=<L1LossBackward>)\n",
      "0.20397048700397136\n",
      "Loss: tensor(0.1391, device='cuda:0', grad_fn=<L1LossBackward>)\n",
      "0.2938704163279908\n",
      "Loss: tensor(0.1333, device='cuda:0', grad_fn=<L1LossBackward>)\n",
      "0.3394873408942658\n",
      "Loss: tensor(0.1315, device='cuda:0', grad_fn=<L1LossBackward>)\n",
      "0.3665355759731028\n",
      "Loss: tensor(0.1289, device='cuda:0', grad_fn=<L1LossBackward>)\n",
      "0.379356551085948\n"
     ]
    }
   ],
   "source": [
    "losses = []\n",
    "similarities = []\n",
    "def main():\n",
    "    \n",
    "    env = DialogEnvironment()\n",
    "    experiment_name = args.logdir.split('/')[1] #model name\n",
    "\n",
    "    torch.manual_seed(args.seed)\n",
    "\n",
    "    #TODO\n",
    "    actor = Actor(hidden_size=args.hidden_size,num_layers=args.num_layers,device='cuda',input_size=args.input_size,output_size=args.input_size)\n",
    "    \n",
    "    actor.to(device)\n",
    "    actor.train()\n",
    "\n",
    "    actor_optim = optim.Adam(actor.parameters(), lr=args.learning_rate)\n",
    "    # load demonstrations\n",
    "\n",
    "    writer = SummaryWriter(args.logdir)\n",
    "\n",
    "    if args.load_model is not None: #TODO\n",
    "        saved_ckpt_path = os.path.join(os.getcwd(), 'save_model', str(args.load_model))\n",
    "        ckpt = torch.load(saved_ckpt_path)\n",
    "\n",
    "        actor.load_state_dict(ckpt['actor'])\n",
    " \n",
    "\n",
    "    \n",
    "    episodes = 0\n",
    "\n",
    "\n",
    "    for iter in range(args.max_iter_num):\n",
    " \n",
    "\n",
    "        steps = 0\n",
    "        scores = []\n",
    "        states = []\n",
    "        expert_actions = []\n",
    "        while steps < args.batch_size: \n",
    "            scores = []\n",
    "            similarity_scores = []\n",
    "            state, expert_action, raw_state, raw_expert_action = env.reset()\n",
    "\n",
    "            score = 0\n",
    "            similarity_score = 0\n",
    "            state = state[:args.seq_len,:]\n",
    "            expert_action = expert_action[:args.seq_len,:]\n",
    "            state = state.to(device)\n",
    "            expert_action = expert_action.to(device)\n",
    "            states.append(state)\n",
    "            expert_actions.append(expert_action)\n",
    "\n",
    "\n",
    "\n",
    "         #   similarity_score += get_cosine_sim(expert=expert_action,action=action.squeeze(),seq_len=5)\n",
    "#            print(get_cosine_sim(s1=expert_action,s2=action.squeeze(),seq_len=5),'sim')\n",
    "\n",
    "            episodes += 1\n",
    "            steps += 1\n",
    "           # similarity_scores.append(similarity_score)\n",
    "        states = torch.stack(states)\n",
    "        actions_pred , _ = actor(states)\n",
    "        expert_actions = torch.stack(expert_actions)\n",
    "\n",
    "\n",
    "\n",
    "      #  similarity_score_avg = np.mean(similarity_scores)\n",
    "  #      print('{}:: {} episode similarity score is {:.2f}'.format(iter, episodes, similarity_score_avg))\n",
    "\n",
    "        loss = F.l1_loss(actions_pred,expert_actions,reduce='sum')\n",
    "        print(\"Loss:\",loss) \n",
    "        losses.append(loss.item())\n",
    "        batch_sim = 0\n",
    "        for i in range(expert_actions.shape[0]):\n",
    "            batch_sim += get_cosine_sim(expert=expert_actions[i],action=actions_pred[i].detach(),seq_len=5)\n",
    "        similarities.append(batch_sim / args.batch_size)\n",
    "        print(batch_sim / args.batch_size)\n",
    "\n",
    "        actor_optim.zero_grad()\n",
    "        loss.backward()\n",
    "        actor_optim.step() \n",
    "        # and this is basically all we need to do\n",
    "\n",
    "if __name__==\"__main__\":\n",
    "    main()\n",
    "\n",
    "\n",
    "\n"
   ]
  },
  {
   "cell_type": "code",
   "execution_count": 16,
   "metadata": {},
   "outputs": [],
   "source": [
    "import matplotlib.pyplot as plt\n",
    "%matplotlib inline"
   ]
  },
  {
   "cell_type": "code",
   "execution_count": 17,
   "metadata": {},
   "outputs": [
    {
     "data": {
      "text/plain": [
       "[<matplotlib.lines.Line2D at 0x2ad94ff9c6d0>]"
      ]
     },
     "execution_count": 17,
     "metadata": {},
     "output_type": "execute_result"
    },
    {
     "data": {
      "image/png": "[encoded data removed]",
      "text/plain": [
       "<Figure size 432x288 with 1 Axes>"
      ]
     },
     "metadata": {
      "needs_background": "light"
     },
     "output_type": "display_data"
    }
   ],
   "source": [
    "plt.plot(losses)\n"
   ]
  },
  {
   "cell_type": "code",
   "execution_count": 18,
   "metadata": {},
   "outputs": [
    {
     "data": {
      "text/plain": [
       "[<matplotlib.lines.Line2D at 0x2ad9b4009880>]"
      ]
     },
     "execution_count": 18,
     "metadata": {},
     "output_type": "execute_result"
    },
    {
     "data": {
      "image/png": "[encoded data removed]",
      "text/plain": [
       "<Figure size 432x288 with 1 Axes>"
      ]
     },
     "metadata": {
      "needs_background": "light"
     },
     "output_type": "display_data"
    }
   ],
   "source": [
    "plt.plot(similarities)"
   ]
  },
  {
   "cell_type": "code",
   "execution_count": null,
   "metadata": {},
   "outputs": [],
   "source": [
    "import torch.nn as nn\n",
    "input1 = torch.randn,100, 128)\n",
    "input2 = torch.randn(1,100, 128)\n",
    "cos = nn.CosineSimilarity(dim=1, eps=1e-6)\n",
    "output = cos(input1, input2)"
   ]
  },
  {
   "cell_type": "code",
   "execution_count": null,
   "metadata": {},
   "outputs": [],
   "source": [
    "output.shape"
   ]
  },
  {
   "cell_type": "code",
   "execution_count": null,
   "metadata": {},
   "outputs": [],
   "source": [
    "actor = Actor(hidden_size=args.hidden_size,num_layers=args.num_layers,device='cuda',input_size=args.input_size,output_size=args.input_size)\n"
   ]
  },
  {
   "cell_type": "code",
   "execution_count": null,
   "metadata": {},
   "outputs": [],
   "source": [
    "env = DialogEnvironment()\n"
   ]
  },
  {
   "cell_type": "code",
   "execution_count": null,
   "metadata": {},
   "outputs": [],
   "source": [
    "actor = actor.to(device)"
   ]
  },
  {
   "cell_type": "code",
   "execution_count": null,
   "metadata": {},
   "outputs": [],
   "source": [
    "scores = []\n",
    "similarity_scores = []\n",
    "state, expert_action, raw_state, raw_expert_action = env.reset()\n",
    "score = 0\n",
    "similarity_score = 0\n",
    "state = state[:args.seq_len,:]\n",
    "expert_action = expert_action[:args.seq_len,:]\n",
    "state = state.to(device)\n",
    "expert_action = expert_action.to(device)"
   ]
  },
  {
   "cell_type": "code",
   "execution_count": null,
   "metadata": {},
   "outputs": [],
   "source": [
    "mu, std = actor(state.resize(1,args.seq_len,args.input_size)) #TODO: gotta be a better way to resize. \n"
   ]
  },
  {
   "cell_type": "code",
   "execution_count": null,
   "metadata": {},
   "outputs": [],
   "source": [
    "\n",
    "def log_prob_density(x, mu, std):\n",
    "    #TODO: Sanity check a few of these.. \n",
    "    log_prob_density = -(x - mu).pow(2) / (2 * std.pow(2)) \\\n",
    "                     - 0.5 * math.log(2 * math.pi)\n",
    "    return log_prob_density.sum(2, keepdim=True).sum(1, keepdim=True) # I think this fixed it. \n",
    "\n",
    "\n",
    "log_prob_density(expert_action, mu, std)"
   ]
  },
  {
   "cell_type": "code",
   "execution_count": null,
   "metadata": {},
   "outputs": [],
   "source": [
    "expert_action - mu"
   ]
  },
  {
   "cell_type": "code",
   "execution_count": null,
   "metadata": {},
   "outputs": [],
   "source": []
  },
  {
   "cell_type": "code",
   "execution_count": null,
   "metadata": {},
   "outputs": [],
   "source": [
    "action = get_action(mu,std)"
   ]
  },
  {
   "cell_type": "code",
   "execution_count": null,
   "metadata": {},
   "outputs": [],
   "source": [
    "mu.shape"
   ]
  },
  {
   "cell_type": "code",
   "execution_count": null,
   "metadata": {},
   "outputs": [],
   "source": [
    "expert_action.shape"
   ]
  },
  {
   "cell_type": "code",
   "execution_count": null,
   "metadata": {},
   "outputs": [],
   "source": [
    "import torch.nn.functional as F"
   ]
  },
  {
   "cell_type": "code",
   "execution_count": null,
   "metadata": {},
   "outputs": [],
   "source": [
    "F.mse_loss(mu,expert_action.unsqueeze(dim=0)) # this won't be needed soon. "
   ]
  },
  {
   "cell_type": "code",
   "execution_count": null,
   "metadata": {},
   "outputs": [],
   "source": [
    "expert_action.unsqueeze(dim=0).shape"
   ]
  },
  {
   "cell_type": "code",
   "execution_count": null,
   "metadata": {},
   "outputs": [],
   "source": [
    "\n",
    "steps = 0\n",
    "scores = []\n",
    "states = []\n",
    "expert_actions = []\n",
    "while steps < 16: \n",
    "    scores = []\n",
    "    similarity_scores = []\n",
    "    state, expert_action, raw_state, raw_expert_action = env.reset()\n",
    "\n",
    "    score = 0\n",
    "    similarity_score = 0\n",
    "    state = state[:args.seq_len,:]\n",
    "    expert_action = expert_action[:args.seq_len,:]\n",
    "    #state = state.to(device)\n",
    "    #expert_action = expert_action.to(device)\n",
    "    states.append(state)\n",
    "    expert_actions.append(expert_action)\n",
    "    \n",
    "    steps += 1\n"
   ]
  },
  {
   "cell_type": "code",
   "execution_count": null,
   "metadata": {},
   "outputs": [],
   "source": [
    "states = torch.stack(states).to(device)"
   ]
  },
  {
   "cell_type": "code",
   "execution_count": null,
   "metadata": {},
   "outputs": [],
   "source": [
    "states.shape"
   ]
  },
  {
   "cell_type": "code",
   "execution_count": null,
   "metadata": {},
   "outputs": [],
   "source": [
    "expert_actions = torch.stack(expert_actions).to(device)"
   ]
  },
  {
   "cell_type": "code",
   "execution_count": null,
   "metadata": {},
   "outputs": [],
   "source": [
    "mu, std = actor(states)"
   ]
  },
  {
   "cell_type": "code",
   "execution_count": null,
   "metadata": {},
   "outputs": [],
   "source": [
    "mu.shape"
   ]
  },
  {
   "cell_type": "code",
   "execution_count": null,
   "metadata": {},
   "outputs": [],
   "source": [
    "loss = F.mse_loss(mu,expert_actions)"
   ]
  },
  {
   "cell_type": "code",
   "execution_count": null,
   "metadata": {},
   "outputs": [],
   "source": [
    "logprobs = log_prob_density(expert_action.cpu(),mu.cpu(),std.cpu())"
   ]
  },
  {
   "cell_type": "code",
   "execution_count": null,
   "metadata": {},
   "outputs": [],
   "source": [
    "logprobs.shape"
   ]
  },
  {
   "cell_type": "code",
   "execution_count": null,
   "metadata": {},
   "outputs": [],
   "source": [
    "def log_prob_density(x, mu, std):\n",
    "    #TODO: Sanity check a few of these.. \n",
    "    log_prob_density = -(x - mu).pow(2) / (2 * std.pow(2)) \\\n",
    "                     - 0.5 * math.log(2 * math.pi)\n",
    "    return log_prob_density.sum(2, keepdim=True)"
   ]
  },
  {
   "cell_type": "code",
   "execution_count": null,
   "metadata": {},
   "outputs": [],
   "source": [
    "logprobs = log_prob_density(expert_action.cpu(),mu.cpu(),std.cpu())\n",
    "logprobs.shape"
   ]
  },
  {
   "cell_type": "code",
   "execution_count": null,
   "metadata": {},
   "outputs": [],
   "source": [
    "logprobs.shape"
   ]
  },
  {
   "cell_type": "code",
   "execution_count": null,
   "metadata": {},
   "outputs": [],
   "source": [
    "ratio = torch.exp(logprobs - .4*logprobs)\n",
    "#surrogate_loss = ratio * advants\n",
    "#entropy = get_entropy(mu, std)"
   ]
  },
  {
   "cell_type": "code",
   "execution_count": null,
   "metadata": {},
   "outputs": [],
   "source": [
    "ratio.shape"
   ]
  },
  {
   "cell_type": "code",
   "execution_count": null,
   "metadata": {},
   "outputs": [],
   "source": [
    "def surrogate_loss(actor, advants, states, old_policy, actions, batch_index):\n",
    "    \"\"\"\n",
    "    The loss for PPO. Re-run through network, recomput policy from states\n",
    "    and see if this surrogate ratio is better. If it is, use as proximal policy update. It's very close to prior policy, but def better. \n",
    "    \n",
    "    Not sure this actually works though. Should not the new mu and stds be used to draw,\n",
    "    \n",
    "        When do we use get_action? Only once in main, I think it should be for all? \n",
    "    \"\"\"\n",
    "    mu, std = actor(states)\n",
    "    new_policy = log_prob_density(actions, mu, std)\n",
    "    old_policy = old_policy[batch_index]\n",
    "\n",
    "    ratio = torch.exp(new_policy - old_policy)\n",
    "    surrogate_loss = ratio * advants\n",
    "    entropy = get_entropy(mu, std)\n",
    "\n",
    "    return surrogate_loss, ratio, entropy"
   ]
  },
  {
   "cell_type": "code",
   "execution_count": null,
   "metadata": {},
   "outputs": [],
   "source": []
  }
 ],
 "metadata": {
  "kernelspec": {
   "display_name": "Python 3",
   "language": "python",
   "name": "python3"
  },
  "language_info": {
   "codemirror_mode": {
    "name": "ipython",
    "version": 3
   },
   "file_extension": ".py",
   "mimetype": "text/x-python",
   "name": "python",
   "nbconvert_exporter": "python",
   "pygments_lexer": "ipython3",
   "version": "3.8.5"
  }
 },
 "nbformat": 4,
 "nbformat_minor": 4
}
