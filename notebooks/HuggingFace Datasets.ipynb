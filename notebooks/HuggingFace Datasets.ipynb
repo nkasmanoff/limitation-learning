{
 "cells": [
  {
   "cell_type": "markdown",
   "metadata": {},
   "source": [
    "Load in and get familiar with HuggingFace "
   ]
  },
  {
   "cell_type": "code",
   "execution_count": 1,
   "metadata": {},
   "outputs": [],
   "source": [
    "from datasets import list_datasets, load_dataset, list_metrics, load_metric\n"
   ]
  },
  {
   "cell_type": "code",
   "execution_count": 2,
   "metadata": {},
   "outputs": [
    {
     "name": "stdout",
     "output_type": "stream",
     "text": [
      "['aeslc', 'ag_news', 'ai2_arc', 'allocine', 'amazon_us_reviews', 'anli', 'arcd', 'art', 'aslg_pc12', 'billsum', 'biomrc', 'blended_skill_talk', 'blimp', 'blog_authorship_corpus', 'bookcorpus', 'boolq', 'break_data', 'c4', 'cfq', 'civil_comments', 'clue', 'cmrc2018', 'cnn_dailymail', 'coarse_discourse', 'com_qa', 'common_gen', 'commonsense_qa', 'compguesswhat', 'conll2000', 'conll2003', 'coqa', 'cornell_movie_dialog', 'cos_e', 'cosmos_qa', 'crd3', 'crime_and_punish', 'csv', 'daily_dialog', 'definite_pronoun_resolution', 'discofuse', 'docred', 'doqa', 'drop', 'eli5', 'emo', 'emotion', 'empathetic_dialogues', 'eraser_multi_rc', 'esnli', 'event2Mind', 'fever', 'flores', 'fquad', 'gap', 'germeval_14', 'gigaword', 'glue', 'guardian_authorship', 'hans', 'hansards', 'hellaswag', 'hotpot_qa', 'hyperpartisan_news_detection', 'imdb', 'iwslt2017', 'jeopardy', 'json', 'kilt_tasks', 'kilt_wikipedia', 'kor_nli', 'lc_quad', 'lhoestq/squad', 'librispeech_lm', 'lince', 'lm1b', 'math_dataset', 'math_qa', 'matinf', 'mlqa', 'mlsum', 'movie_rationales', 'ms_marco', 'multi_news', 'multi_nli', 'multi_nli_mismatch', 'mwsc', 'natural_questions', 'newsgroup', 'newsroom', 'openbookqa', 'openwebtext', 'opinosis', 'pandas', 'para_crawl', 'pg19', 'piaf', 'polyglot_ner', 'qa4mre', 'qa_zre', 'qangaroo', 'qanta', 'qasc', 'quail', 'quarel', 'quartz', 'quora', 'quoref', 'race', 'reclor', 'reddit', 'reddit_tifu', 'reuters21578', 'rotten_tomatoes', 'scan', 'scicite', 'scientific_papers', 'scifact', 'sciq', 'scitail', 'search_qa', 'sentiment140', 'snli', 'social_bias_frames', 'social_i_qa', 'sogou_news', 'squad', 'squad_es', 'squad_it', 'squad_v1_pt', 'squad_v2', 'squadshifts', 'sshleifer/pseudo_bart_xsum', 'style_change_detection', 'super_glue', 'ted_hrlr', 'ted_multi', 'text', 'tiny_shakespeare', 'trec', 'trivia_qa', 'tydiqa', 'ubuntu_dialogs_corpus', 'web_of_science', 'web_questions', 'wiki40b', 'wiki_dpr', 'wiki_qa', 'wiki_snippets', 'wiki_split', 'wikihow', 'wikipedia', 'wikisql', 'wikitext', 'winogrande', 'wiqa', 'wmt14', 'wmt15', 'wmt16', 'wmt17', 'wmt18', 'wmt19', 'wmt_t2t', 'wnut_17', 'x_stance', 'xcopa', 'xnli', 'xquad', 'xsum', 'xtreme', 'yelp_polarity']\n"
     ]
    }
   ],
   "source": [
    "# Print all the available datasets\n",
    "print(list_datasets())"
   ]
  },
  {
   "cell_type": "code",
   "execution_count": 6,
   "metadata": {},
   "outputs": [
    {
     "name": "stderr",
     "output_type": "stream",
     "text": [
      "Using custom data configuration default\n",
      "Reusing dataset cornell_movie_dialog (/home/nsk367/.cache/huggingface/datasets/cornell_movie_dialog/default/0.1.0/8043d87a4723aa14a44a50ade94c9070289b8309b3fd12e8528174435dcfcf53)\n"
     ]
    }
   ],
   "source": [
    "# Load a dataset and print the first examples in the training set\n",
    "cornell_dataset = load_dataset('cornell_movie_dialog')\n"
   ]
  },
  {
   "cell_type": "code",
   "execution_count": 14,
   "metadata": {},
   "outputs": [
    {
     "data": {
      "text/plain": [
       "{'LineID': ['L194', 'L195', 'L196', 'L197'],\n",
       " 'text': ['L194 ', 'L195 ', 'L196 ', 'L197 ']}"
      ]
     },
     "execution_count": 14,
     "metadata": {},
     "output_type": "execute_result"
    }
   ],
   "source": [
    "cornell_dataset['train'][0]['utterance']"
   ]
  },
  {
   "cell_type": "code",
   "execution_count": 48,
   "metadata": {},
   "outputs": [
    {
     "data": {
      "text/plain": [
       "DatasetDict({'train': Dataset(features: {'movieID': Value(dtype='string', id=None), 'movieTitle': Value(dtype='string', id=None), 'movieYear': Value(dtype='string', id=None), 'movieIMDBRating': Value(dtype='string', id=None), 'movieNoIMDBVotes': Value(dtype='string', id=None), 'movieGenres': Sequence(feature=Value(dtype='string', id=None), length=-1, id=None), 'characterID1': Value(dtype='string', id=None), 'characterID2': Value(dtype='string', id=None), 'characterName1': Value(dtype='string', id=None), 'characterName2': Value(dtype='string', id=None), 'utterance': Sequence(feature={'text': Value(dtype='string', id=None), 'LineID': Value(dtype='string', id=None)}, length=-1, id=None)}, num_rows: 83097)})"
      ]
     },
     "execution_count": 48,
     "metadata": {},
     "output_type": "execute_result"
    }
   ],
   "source": [
    "cornell_dataset"
   ]
  },
  {
   "cell_type": "code",
   "execution_count": 30,
   "metadata": {},
   "outputs": [],
   "source": [
    "df = cornell_dataset['train']"
   ]
  },
  {
   "cell_type": "code",
   "execution_count": 56,
   "metadata": {},
   "outputs": [],
   "source": [
    "ut = df.features['utterance']"
   ]
  },
  {
   "cell_type": "code",
   "execution_count": null,
   "metadata": {},
   "outputs": [],
   "source": []
  },
  {
   "cell_type": "code",
   "execution_count": 47,
   "metadata": {},
   "outputs": [
    {
     "data": {
      "application/vnd.jupyter.widget-view+json": {
       "model_id": "5903c191127a4bc1b7189af844d79980",
       "version_major": 2,
       "version_minor": 0
      },
      "text/plain": [
       "HBox(children=(FloatProgress(value=0.0, max=83097.0), HTML(value='')))"
      ]
     },
     "metadata": {},
     "output_type": "display_data"
    },
    {
     "name": "stdout",
     "output_type": "stream",
     "text": [
      "\n"
     ]
    },
    {
     "data": {
      "text/plain": [
       "Dataset(features: {'characterID1': Value(dtype='string', id=None), 'characterID2': Value(dtype='string', id=None), 'characterName1': Value(dtype='string', id=None), 'characterName2': Value(dtype='string', id=None), 'movieGenres': Sequence(feature=Value(dtype='string', id=None), length=-1, id=None), 'movieID': Value(dtype='string', id=None), 'movieIMDBRating': Value(dtype='string', id=None), 'movieNoIMDBVotes': Value(dtype='string', id=None), 'movieTitle': Value(dtype='string', id=None), 'movieYear': Value(dtype='string', id=None), 'utterance': Sequence(feature={'text': Value(dtype='string', id=None), 'LineID': Value(dtype='string', id=None)}, length=-1, id=None)}, num_rows: 83097)"
      ]
     },
     "execution_count": 47,
     "metadata": {},
     "output_type": "execute_result"
    }
   ],
   "source": [
    "df.map()"
   ]
  },
  {
   "cell_type": "code",
   "execution_count": null,
   "metadata": {},
   "outputs": [],
   "source": []
  },
  {
   "cell_type": "markdown",
   "metadata": {},
   "source": []
  },
  {
   "cell_type": "code",
   "execution_count": null,
   "metadata": {},
   "outputs": [],
   "source": []
  }
 ],
 "metadata": {
  "kernelspec": {
   "display_name": "Python 3",
   "language": "python",
   "name": "python3"
  },
  "language_info": {
   "codemirror_mode": {
    "name": "ipython",
    "version": 3
   },
   "file_extension": ".py",
   "mimetype": "text/x-python",
   "name": "python",
   "nbconvert_exporter": "python",
   "pygments_lexer": "ipython3",
   "version": "3.8.5"
  }
 },
 "nbformat": 4,
 "nbformat_minor": 4
}
